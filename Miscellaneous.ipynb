{
 "cells": [
  {
   "cell_type": "markdown",
   "metadata": {},
   "source": [
    "# 1. \\*args and \\*\\*kwargs\n",
    "\n",
    "**\\*args :** for passing variable number of non-keyworded arguments to a function.\n",
    "\n",
    "**\\*\\*kwargs :** for passing variable number of keyworded arguments to a function."
   ]
  },
  {
   "cell_type": "code",
   "execution_count": null,
   "metadata": {},
   "outputs": [],
   "source": [
    "def add1(a,b):\n",
    "    c = a + b\n",
    "    return c"
   ]
  },
  {
   "cell_type": "code",
   "execution_count": null,
   "metadata": {},
   "outputs": [],
   "source": [
    "def add2(*nums):\n",
    "    print(nums)\n",
    "    return sum(nums)"
   ]
  },
  {
   "cell_type": "code",
   "execution_count": null,
   "metadata": {},
   "outputs": [],
   "source": [
    "def record(**data):\n",
    "    print(data)"
   ]
  },
  {
   "cell_type": "code",
   "execution_count": null,
   "metadata": {},
   "outputs": [],
   "source": [
    "def get_data(engine, *queries, **properties):\n",
    "    print(engine, queries, properties)"
   ]
  },
  {
   "cell_type": "markdown",
   "metadata": {},
   "source": [
    "# 2. assert\n",
    "\n",
    ">An assertion is a sanity-check that you can turn on or turn off when you are done with your testing of the program.\n",
    "\n",
    ">The easiest way to think of an assertion is to liken it to a raise-if statement (or to be more accurate, a raise-if-not statement). An expression is tested, and if the result comes up false, an exception is raised."
   ]
  },
  {
   "cell_type": "code",
   "execution_count": null,
   "metadata": {},
   "outputs": [],
   "source": [
    "def get_age1(age):\n",
    "    print(\"Your age is:\", age)"
   ]
  },
  {
   "cell_type": "code",
   "execution_count": null,
   "metadata": {},
   "outputs": [],
   "source": [
    "def get_age2(age):\n",
    "    assert age>0, \"Age must be greater than 0\"\n",
    "    print(\"Your age is:\", age)"
   ]
  },
  {
   "cell_type": "markdown",
   "metadata": {},
   "source": [
    "# 3. Exception handling\n",
    "\n",
    "<img src=https://scontent-sea1-1.cdninstagram.com/t51.2885-15/s480x480/e35/13385716_257574501275370_131624606_n.jpg?ig_cache_key=MTI2OTEyODUxNzc2NTMyOTAwMA%3D%3D.2 height=400 width=400>"
   ]
  },
  {
   "cell_type": "code",
   "execution_count": null,
   "metadata": {},
   "outputs": [],
   "source": [
    "a = [1, 2, 3]\n",
    "try: \n",
    "    print(\"Second element = %d\" %(a[1]))\n",
    " \n",
    "    # Throws error since there are only 3 elements in array\n",
    "    print(\"Fourth element = %d\" %(a[3]))\n",
    "\n",
    "except IndexError:\n",
    "    print(\"An error occurred\")"
   ]
  },
  {
   "cell_type": "code",
   "execution_count": null,
   "metadata": {},
   "outputs": [],
   "source": [
    "def divide(a, b):\n",
    "    try:\n",
    "        c = a/b\n",
    "        print(c)\n",
    "    except ZeroDivisionError:\n",
    "        print(\"Can't divide by 0\")\n",
    "    else:\n",
    "        print(c)"
   ]
  },
  {
   "cell_type": "code",
   "execution_count": null,
   "metadata": {},
   "outputs": [],
   "source": [
    "def divide2(x, y):\n",
    "    try:\n",
    "        result = x / y\n",
    "    except ZeroDivisionError:\n",
    "        print(\"division by zero!\")\n",
    "    else:\n",
    "        print(\"result is\", result)\n",
    "    finally:\n",
    "        print(\"executing finally clause\")"
   ]
  },
  {
   "cell_type": "markdown",
   "metadata": {},
   "source": [
    "# 4. User defined exception\n",
    "\n",
    ">Sometimes you may need to create custom exceptions that serves your purpose. In Python, users can define such exceptions by creating a new class. This exception class has to be derived, either directly or indirectly, from Exception class. Most of the built-in exceptions are also derived form this class."
   ]
  },
  {
   "cell_type": "code",
   "execution_count": null,
   "metadata": {},
   "outputs": [],
   "source": [
    "class InvalidLevelError(Exception):\n",
    "    def __init__(self, message):\n",
    "        self.message = message\n",
    "        \n",
    "level = -1\n",
    "\n",
    "try:\n",
    "    if level < 0:\n",
    "        raise InvalidLevelError(\"Invalid level: {}\".format(level))\n",
    "except InvalidLevelError as e:\n",
    "    print(e)"
   ]
  },
  {
   "cell_type": "markdown",
   "metadata": {},
   "source": [
    "# 5. Underscore (_) in Python\n",
    "\n",
    ">The underscore (_) is special in Python.\n",
    "\n",
    "## Case 1: For storing the value of last expression in interpreter.\n",
    "\n",
    "The python interpreter stores the last expression value to the special variable called ‘_’. \n",
    "\n",
    "![](https://i.imgur.com/WR29PUt.png)\n",
    "\n",
    "## Case 2: For Ignoring the values\n",
    "\n",
    "The underscore is also used for ignoring the specific values. If you don’t need the specific values or the values are not used, just assign the values to underscore.\n",
    "\n",
    "![](https://i.imgur.com/foQSpNX.png)\n",
    "\n",
    "## Case 3: Give special meanings to name of variables and functions\n",
    "\n",
    "### _single_leading_underscore\n",
    "\n",
    "This convention is used for declaring **private** variables, functions, methods and classes in a module.\n",
    "Anything with this convention are ignored when you try to import your module in some other module by:\n",
    "```python\n",
    "from module import *\n",
    "```\n",
    "\n",
    ">However, if you still need to import a private variable, import it directly.\n",
    "\n",
    "### single_trailing_underscore_\n",
    "\n",
    "This convention can be used for avoiding conflict with Python keywords or built-ins.\n",
    "\n",
    "For example, to avoid conflict with 'list' built-in type:\n",
    "\n",
    "```python\n",
    "list_ = [1,2,3,4,5]\n",
    "```\n",
    "\n",
    "### __double_leading_underscore\n",
    "\n",
    "double underscore will change the way a method/attribute can be called using an object of a class.\n",
    "\n",
    "You cannot access such methods/attributes with syntax **\"ObjectName.\\_\\_method\"** as shown below:\n",
    "\n",
    "![](https://i.imgur.com/x5KEveB.png)\n",
    "\n",
    "You can access them with syntax **\"ObjectName.\\_ClassName\\_\\_method\"** as shown below:\n",
    "\n",
    "![](https://i.imgur.com/diyBpnL.png)\n",
    "\n",
    "This naming convention is useful in case of inheritance when you want to use **methods of same name in child and parent class** separately. See the example below:\n",
    "\n",
    "![](https://i.imgur.com/wX6qpub.png)\n",
    "\n",
    "### __double_leading_and_trailing_underscore__\n",
    "\n",
    "This convention is used for special variables or methods (so-called “magic method”) such as \\_\\_init\\_\\_, \\_\\_len\\_\\_, etc. These methods provides special syntactic features or do special things., etc"
   ]
  },
  {
   "cell_type": "code",
   "execution_count": null,
   "metadata": {},
   "outputs": [],
   "source": [
    "class A:\n",
    "    def __init__(self):\n",
    "        print(\"Object initialized!\")\n",
    "\n",
    "    def __len__(self):\n",
    "        print(\"Get object length!\")\n",
    "        return 10\n",
    "\n",
    "    def __call__(self):\n",
    "        print(\"Object used as a function!\")\n",
    "\n",
    "    def __eq__(self, a):\n",
    "        print(\"Equate the two objects!\")\n",
    "\n",
    "a = A()  # call __init__\n",
    "print(len(a))  # call __len__\n",
    "a()  # call __call__\n",
    "b = A()  # call __init__\n",
    "a==b  # call __eq__"
   ]
  },
  {
   "cell_type": "markdown",
   "metadata": {},
   "source": [
    "## Case 4: To separate the digits of number literal value\n",
    "\n",
    "It is used for separating digits of numbers using underscore for readability."
   ]
  },
  {
   "cell_type": "code",
   "execution_count": null,
   "metadata": {},
   "outputs": [],
   "source": [
    "num = 1_000_000\n",
    "print(num)"
   ]
  }
 ],
 "metadata": {
  "kernelspec": {
   "display_name": "Python 3",
   "language": "python",
   "name": "python3"
  },
  "language_info": {
   "codemirror_mode": {
    "name": "ipython",
    "version": 3
   },
   "file_extension": ".py",
   "mimetype": "text/x-python",
   "name": "python",
   "nbconvert_exporter": "python",
   "pygments_lexer": "ipython3",
   "version": "3.6.3"
  }
 },
 "nbformat": 4,
 "nbformat_minor": 2
}
