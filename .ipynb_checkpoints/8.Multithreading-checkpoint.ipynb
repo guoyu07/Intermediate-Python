{
 "cells": [
  {
   "cell_type": "markdown",
   "metadata": {},
   "source": [
    "# <center>Intermediate Python (Part-8)</center>"
   ]
  },
  {
   "cell_type": "markdown",
   "metadata": {},
   "source": [
    "# ***<center>Multithreading</center>***\n",
    "\n",
    "<img src=http://s.quickmeme.com/img/e0/e0d5117bef35ea6a2f1a7baa7c1d029abb76060387f51ba05aa8f7b632782b40.jpg height=400 width=400>"
   ]
  },
  {
   "cell_type": "markdown",
   "metadata": {},
   "source": [
    "Just like multiprocessing, multithreading is a way of achieving multitasking. In multithreading, the concept of **threads** is used.\n",
    "\n",
    "Let us first understand the concept of **thread** in computer architecture.\n",
    "\n",
    "In computing, a process is an instance of a computer program that is being executed. Any process has 3 basic components:\n",
    "\n",
    "- An executable program.\n",
    "- The associated data needed by the program (variables, work space, buffers, etc.)\n",
    "- The execution context of the program (State of process)\n",
    "\n",
    "A thread is an entity within a process that can be scheduled for execution. Also, it is the smallest unit of processing that can be performed in an OS (Operating System).\n",
    "\n",
    ">In simple words, a thread is a sequence of such instructions within a program that can be executed independently of other code. For simplicity, you can assume that a thread is simply a subset of a process!\n",
    "\n",
    "![](http://contribute.geeksforgeeks.org/wp-content/uploads/pcb_tcb.png)"
   ]
  },
  {
   "cell_type": "markdown",
   "metadata": {},
   "source": [
    "<h3 id=\"Multithreading\" style=\"text-align: left;\"><strong>Multithreading</strong></h3>\n",
    "Multiple threads can exist within one process where:\n",
    "<ul>\n",
    "\t<li>Each thread contains its own <strong>register set</strong> and <strong>local variables (stored in stack)</strong>.</li>\n",
    "\t<li>All thread of a process share <strong>global variables (stored in heap)</strong> and the <strong>program code</strong>.</li>\n",
    "</ul>\n",
    "Consider the diagram below to understand how multiple threads exist in memory:\n",
    "\n",
    "<img class=\" size-full wp-image-203718 aligncenter\" src=\"http://contribute.geeksforgeeks.org/wp-content/uploads/single-and-multithreaded-process.png\" alt=\"\" width=\"600\" height=\"300\" />\n",
    "\n",
    "<strong>Multithreading</strong> is defined as the ability of a processor to execute multiple threads concurrently.\n",
    "<blockquote>In a simple, single-core CPU, it is achieved using frequent switching between threads. This is termed as <strong>context switching</strong>. In context switching, the state of a thread is saved and state of another thread is loaded whenever any interrupt (due to I/O or manually set) takes place. Context switching takes place so frequently that all the threads appear to be running parallely (this is termed as <strong>multitasking</strong>).</blockquote>\n",
    "Consider the diagram below in which a process contains two active threads:\n",
    "\n",
    "<img class=\"  wp-image-203720 aligncenter\" src=\"http://contribute.geeksforgeeks.org/wp-content/uploads/thread.png\" alt=\"\" width=\"372\" height=\"351\" />"
   ]
  },
  {
   "cell_type": "markdown",
   "metadata": {},
   "source": [
    "<h3 id=\"Multithreaing-in-Python\" style=\"text-align: left;\"><strong>Multithreading in Python</strong></h3>\n",
    "In Python, the <strong>threading</strong> module provides a very simple and intuitive API for spawning multiple threads in a program."
   ]
  },
  {
   "cell_type": "code",
   "execution_count": null,
   "metadata": {},
   "outputs": [],
   "source": [
    "import threading\n",
    " \n",
    "def print_cube(num):\n",
    "    \"\"\"\n",
    "    function to print cube of given num\n",
    "    \"\"\"\n",
    "    print(\"Cube: {}\".format(num * num * num))\n",
    "\n",
    "def print_square(num):\n",
    "    \"\"\"\n",
    "    function to print square of given num\n",
    "    \"\"\"\n",
    "    print(\"Square: {}\".format(num * num))\n",
    "\n",
    "if __name__ == \"__main__\":\n",
    "    # creating thread\n",
    "    t1 = threading.Thread(target=print_square, args=(10,))\n",
    "    t2 = threading.Thread(target=print_cube, args=(10,))\n",
    " \n",
    "    # starting thread 1\n",
    "    t1.start()\n",
    "    # starting thread 2\n",
    "    t2.start()\n",
    " \n",
    "    # wait until thread 1 is completely executed\n",
    "    t1.join()\n",
    "    # wait until thread 2 is completely executed\n",
    "    t2.join()\n",
    " \n",
    "    # both threads completely executed\n",
    "    print(\"Done!\")"
   ]
  },
  {
   "cell_type": "markdown",
   "metadata": {},
   "source": [
    "![](http://contribute.geeksforgeeks.org/wp-content/uploads/threading1.png)"
   ]
  },
  {
   "cell_type": "markdown",
   "metadata": {},
   "source": [
    "Consider the python program given below in which we print thread name and corresponding process for each task:"
   ]
  },
  {
   "cell_type": "code",
   "execution_count": null,
   "metadata": {},
   "outputs": [],
   "source": [
    "import os\n",
    " \n",
    "def task1():\n",
    "    print(\"Task 1 assigned to thread: {}\".format(threading.current_thread().name))\n",
    "    print(\"ID of process running task 1: {}\".format(os.getpid()))\n",
    "\n",
    "def task2():\n",
    "    print(\"Task 2 assigned to thread: {}\".format(threading.current_thread().name))\n",
    "    print(\"ID of process running task 2: {}\".format(os.getpid()))\n",
    "\n",
    "if __name__ == \"__main__\":\n",
    " \n",
    "    # print ID of current process\n",
    "    print(\"ID of process running main program: {}\".format(os.getpid()))\n",
    " \n",
    "    # print name of main thread\n",
    "    print(\"Main thread name: {}\".format(threading.main_thread().name))\n",
    " \n",
    "    # creating threads\n",
    "    t1 = threading.Thread(target=task1, name='t1')\n",
    "    t2 = threading.Thread(target=task2, name='t2')  \n",
    " \n",
    "    # starting threads\n",
    "    t1.start()\n",
    "    t2.start()\n",
    " \n",
    "    # wait until all threads finish\n",
    "    t1.join()\n",
    "    t2.join()"
   ]
  },
  {
   "cell_type": "markdown",
   "metadata": {},
   "source": [
    "![](http://contribute.geeksforgeeks.org/wp-content/uploads/threading2.png)"
   ]
  },
  {
   "cell_type": "markdown",
   "metadata": {},
   "source": [
    "### Advantages:\n",
    "\n",
    "- It doesn’t block the user. This is because threads are independent of each other.\n",
    "- Better use of system resources is possible since threads execute tasks parallely.\n",
    "- Enhanced performance on multi-processor machines.\n",
    "- Multi-threaded servers and interactive GUIs use multithreading exclusively.\n",
    "\n",
    "### Disadvantages:\n",
    "\n",
    "- As number of threads increase, complexity increases.\n",
    "- Synchronization of shared resources (objects, data) is necessary.\n",
    "- It is difficult to debug, result is sometimes unpredictable.\n",
    "- Potential deadlocks which leads to starvation, i.e. some threads may not be served with a bad design\n",
    "- Constructing and synchronizing threads is CPU/memory intensive."
   ]
  },
  {
   "cell_type": "markdown",
   "metadata": {},
   "source": [
    "Read more about multithreading here:\n",
    "- https://indianpythonista.wordpress.com/2017/07/13/multithreading-in-python-part-1/\n",
    "- https://indianpythonista.wordpress.com/2017/07/16/multithreading-in-python-part-2/\n",
    "\n",
    "![](http://s2.quickmeme.com/img/95/95345c5a7574313b988224d6e7796ed283ee6d57780b9fa853c402d9df6a4e45.jpg)"
   ]
  }
 ],
 "metadata": {
  "kernelspec": {
   "display_name": "Python 3",
   "language": "python",
   "name": "python3"
  },
  "language_info": {
   "codemirror_mode": {
    "name": "ipython",
    "version": 3
   },
   "file_extension": ".py",
   "mimetype": "text/x-python",
   "name": "python",
   "nbconvert_exporter": "python",
   "pygments_lexer": "ipython3",
   "version": "3.6.3"
  }
 },
 "nbformat": 4,
 "nbformat_minor": 2
}
