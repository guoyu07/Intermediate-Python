{
 "cells": [
  {
   "cell_type": "markdown",
   "metadata": {},
   "source": [
    "# <center>Intermediate Python (Part-5)</center>"
   ]
  },
  {
   "cell_type": "markdown",
   "metadata": {},
   "source": [
    "# ***<center>Working with Files</center>***\n",
    "\n",
    "<img src=https://img.memecdn.com/dat-file_o_200764.jpg height=300 width=300>"
   ]
  },
  {
   "cell_type": "markdown",
   "metadata": {},
   "source": [
    "## File Access Modes\n",
    "\n",
    ">Access modes govern the type of operations possible in the opened file. It refers to how the file will be used once its opened. These modes also define the location of the File Handle in the file. File handle is like a cursor, which defines from where the data has to be read or written in the file. There are 6 access modes in python.\n",
    "\n",
    "- **Read Only (‘r’)** : Open text file for reading. The handle is positioned at the beginning of the file. If the file does not exists, raises I/O error. This is also the default mode in which file is opened.\n",
    "\n",
    "\n",
    "- **Read and Write (‘r+’)** : Open the file for reading and writing. The handle is positioned at the beginning of the file. Raises I/O error if the file does not exists.\n",
    "\n",
    "\n",
    "- **Write Only (‘w’)** : Open the file for writing. For existing file, the data is truncated and over-written. The handle is positioned at the beginning of the file. Creates the file if the file does not exists.\n",
    "\n",
    "\n",
    "- **Write and Read (‘w+’)** : Open the file for reading and writing. For existing file, data is truncated and over-written. The handle is positioned at the beginning of the file.\n",
    "\n",
    "\n",
    "- **Append Only (‘a’)** : Open the file for writing. The file is created if it does not exist. The handle is positioned at the end of the file. The data being written will be inserted at the end, after the existing data.\n",
    "\n",
    "\n",
    "- **Append and Read (‘a+’)** : Open the file for reading and writing. The file is created if it does not exist. The handle is positioned at the end of the file. The data being written will be inserted at the end, after the existing data."
   ]
  },
  {
   "cell_type": "markdown",
   "metadata": {},
   "source": [
    "## 1. Text files"
   ]
  },
  {
   "cell_type": "markdown",
   "metadata": {},
   "source": [
    "### Opening a file"
   ]
  },
  {
   "cell_type": "code",
   "execution_count": null,
   "metadata": {},
   "outputs": [],
   "source": []
  },
  {
   "cell_type": "markdown",
   "metadata": {},
   "source": [
    "### Closing a file\n",
    "\n",
    "<img src=https://memegenerator.net/img/instances/500x/58748422/if-you-could-just-close-that-file-thatd-be-great-emm-kay.jpg height=400 width=400>"
   ]
  },
  {
   "cell_type": "code",
   "execution_count": null,
   "metadata": {},
   "outputs": [],
   "source": []
  },
  {
   "cell_type": "markdown",
   "metadata": {},
   "source": [
    "### Writing to a file\n",
    "\n",
    "- write\n",
    "- writelines"
   ]
  },
  {
   "cell_type": "code",
   "execution_count": null,
   "metadata": {},
   "outputs": [],
   "source": []
  },
  {
   "cell_type": "markdown",
   "metadata": {},
   "source": [
    "### Reading from a file\n",
    "- read\n",
    "- readline\n",
    "- readlines"
   ]
  },
  {
   "cell_type": "code",
   "execution_count": null,
   "metadata": {},
   "outputs": [],
   "source": []
  },
  {
   "cell_type": "markdown",
   "metadata": {},
   "source": [
    "### Moving the cursor\n",
    "\n",
    "- seek(n) : takes the file handle to the nth byte from the beginning."
   ]
  },
  {
   "cell_type": "code",
   "execution_count": null,
   "metadata": {},
   "outputs": [],
   "source": []
  },
  {
   "cell_type": "markdown",
   "metadata": {},
   "source": [
    "### Smarter way of opening files...\n",
    "\n",
    "With the \"with\" statement, you get better syntax and exceptions handling. \n",
    "\n",
    "\"The with statement simplifies exception handling by encapsulating common\n",
    "preparation and cleanup tasks.\"\n",
    "\n",
    "In addition, it will automatically close the file. The with statement provides\n",
    "a way for ensuring that a clean-up is always used.\n"
   ]
  },
  {
   "cell_type": "code",
   "execution_count": null,
   "metadata": {},
   "outputs": [],
   "source": []
  },
  {
   "cell_type": "markdown",
   "metadata": {},
   "source": [
    "## 2. JSON files\n",
    "\n",
    ">Javascript Object Notation abbreviated as JSON is a light-weight data interchange format. It Encode Python objects as JSON strings, and decode JSON strings into Python objects \n",
    "\n",
    "<img src=https://cosmic-s3.imgix.net/a36a7c70-4a9b-11e6-9c2d-9547cfa7474b-article-json-everywhere-meme.jpg?w=900 height=500 width=500>"
   ]
  },
  {
   "cell_type": "markdown",
   "metadata": {},
   "source": [
    "- **json.dump(obj, fileObj) :** Serializes obj as a JSON formatted stream to fileObj.\n",
    "- **json.dumps(obj) :** Serializes obj as JSON formatted string.\n",
    "- **json.load(JSONfile) :** De-serializes JSONfile to a Python object.\n",
    "- **json.loads(JSONfile) :** De-serializes JSONfile(type: string) to a Python object."
   ]
  },
  {
   "cell_type": "code",
   "execution_count": null,
   "metadata": {},
   "outputs": [],
   "source": []
  },
  {
   "cell_type": "markdown",
   "metadata": {},
   "source": [
    "## 3. XML files\n",
    "\n",
    "<img src=http://i.imgur.com/frZZbAQ.jpg height=300 width=300>\n",
    "\n",
    ">XML stands for eXtensible Markup Language. It was designed to store and transport data. It was designed to be both human- and machine-readable.That’s why, the design goals of XML emphasize simplicity, generality, and usability across the Internet.\n",
    "\n",
    "```python\n",
    "import xml.etree.ElementTree as ET\n",
    "```"
   ]
  },
  {
   "cell_type": "code",
   "execution_count": 39,
   "metadata": {},
   "outputs": [],
   "source": [
    "import xml.etree.ElementTree as ET"
   ]
  },
  {
   "cell_type": "markdown",
   "metadata": {},
   "source": [
    ">Here, we are using xml.etree.ElementTree (call it ET, in short) module. Element Tree has two classes – **ElementTree** represents the whole XML document as a tree, and **Element** represents a single node in this tree. Interactions with the whole document (reading and writing to/from files) are usually done on the ElementTree level. Interactions with a single XML element and its sub-elements are done on the Element level."
   ]
  },
  {
   "cell_type": "code",
   "execution_count": 61,
   "metadata": {},
   "outputs": [],
   "source": [
    "# create element tree object\n",
    "tree = ET.parse(\"resources/rssfeed.xml\")"
   ]
  },
  {
   "cell_type": "code",
   "execution_count": 41,
   "metadata": {},
   "outputs": [],
   "source": [
    "# get root element\n",
    "root = tree.getroot()"
   ]
  },
  {
   "cell_type": "code",
   "execution_count": 42,
   "metadata": {},
   "outputs": [],
   "source": [
    "# create empty list for news items\n",
    "newsitems = []"
   ]
  },
  {
   "cell_type": "markdown",
   "metadata": {},
   "source": [
    "### XPATH\n",
    ">./channel/item is actually XPath syntax (XPath is a language for addressing parts of an XML document). Here, we want to find all item grand-children of channel children of the root(denoted by ‘.’) element.\n",
    "\n",
    "![](https://indianpythonista.files.wordpress.com/2017/01/1.gif)"
   ]
  },
  {
   "cell_type": "code",
   "execution_count": 44,
   "metadata": {},
   "outputs": [],
   "source": [
    "# iterate news items\n",
    "for item in root.findall('./channel/item'):\n",
    "    # empty news dictionary\n",
    "    news = {}\n",
    "\n",
    "    # iterate child elements of item\n",
    "    for child in item:\n",
    "        if child.tag == \"media\":\n",
    "            news[child.tag] = child.attrib['url']\n",
    "        else:\n",
    "            news[child.tag] = child.text.encode('utf8')\n",
    "            \n",
    "    # append news dictionary to news items list\n",
    "    newsitems.append(news)"
   ]
  },
  {
   "cell_type": "markdown",
   "metadata": {},
   "source": [
    "## JSON vs XML\n",
    "\n",
    "<img src=http://s2.quickmeme.com/img/37/378dc176eed7cbd89f077b3d3b065f4ac6ea9815dad3fbf71cfa94a9c92d5e93.jpg height=400 width=400>\n",
    "\n",
    "Both JSON and XML can be used to receive data from a web server.\n",
    "\n",
    "### JSON is Like XML Because\n",
    "- Both JSON and XML are \"self describing\" (human readable)\n",
    "- Both JSON and XML are hierarchical (values within values)\n",
    "- Both JSON and XML can be parsed and used by lots of programming languages\n",
    "\n",
    "### JSON is Unlike XML Because\n",
    "- JSON doesn't use end tag\n",
    "- JSON is shorter\n",
    "- JSON is quicker to read and write\n",
    "- JSON can use arrays\n",
    "\n",
    "### Why JSON is Better Than XML\n",
    "\n",
    "- XML is much more difficult to parse than JSON.\n",
    "- JSON is parsed into a ready-to-use JavaScript object. (and JS objects can be easily converted to Python objects!)\n",
    "\n",
    "<img src=https://memegenerator.net/img/instances/400x/45187234.jpg height=300 width=300>"
   ]
  },
  {
   "cell_type": "markdown",
   "metadata": {},
   "source": [
    "## 4. CSV files\n",
    "\n",
    "<img src=https://cdn-images-1.medium.com/max/1600/1*4Z2oMWCTiY-wxa3F9NaIAQ.png height=300 width=300>\n",
    "\n",
    "> CSV (Comma Separated Values) is a simple file format used to store tabular data, such as a spreadsheet or database. A CSV file stores tabular data (numbers and text) in plain text. Each line of the file is a data record. Each record consists of one or more fields, separated by commas. The use of the comma as a field separator is the source of the name for this file format.\n",
    "\n",
    "For working CSV files in python, there is an inbuilt module called csv."
   ]
  },
  {
   "cell_type": "markdown",
   "metadata": {},
   "source": [
    "### Reading a CSV file\n",
    "\n",
    "To read csv file, the file object is converted to csv.reader object.\n"
   ]
  },
  {
   "cell_type": "code",
   "execution_count": 63,
   "metadata": {},
   "outputs": [],
   "source": [
    "import csv"
   ]
  },
  {
   "cell_type": "code",
   "execution_count": 65,
   "metadata": {},
   "outputs": [],
   "source": [
    "# reading csv file\n",
    "with open(\"resources/aapl.csv\", 'r') as csvfile:\n",
    "    # creating a csv reader object\n",
    "    csvreader = csv.reader(csvfile)\n",
    "     \n",
    "    # extracting field names through first row\n",
    "    fields = next(csvreader)\n",
    " \n",
    "    # extracting each data row one by one\n",
    "    for row in csvreader:\n",
    "        rows.append(row)"
   ]
  },
  {
   "cell_type": "markdown",
   "metadata": {},
   "source": [
    "### Writing a CSV file\n",
    "\n",
    "To write to CSV file, use csv.writer object."
   ]
  },
  {
   "cell_type": "code",
   "execution_count": 55,
   "metadata": {},
   "outputs": [],
   "source": [
    "# field names\n",
    "fields = ['Name', 'Branch', 'Year', 'CGPA']\n",
    " \n",
    "# data rows of csv file\n",
    "rows = [ ['Nikhil', 'COE', '2', '9.0'],\n",
    "         ['Sanchit', 'COE', '2', '9.1'],\n",
    "         ['Aditya', 'IT', '2', '9.3'],\n",
    "         ['Sagar', 'SE', '1', '9.5'],\n",
    "         ['Prateek', 'MCE', '3', '7.8'],\n",
    "         ['Sahil', 'EP', '2', '9.1']]"
   ]
  },
  {
   "cell_type": "code",
   "execution_count": null,
   "metadata": {},
   "outputs": [],
   "source": [
    "# writing to csv file\n",
    "with open(filename, 'w') as csvfile:\n",
    "    # creating a csv writer object\n",
    "    csvwriter = csv.writer(csvfile)\n",
    "     \n",
    "    # writing the fields\n",
    "    csvwriter.writerow(fields)\n",
    "     \n",
    "    # writing the data rows\n",
    "    csvwriter.writerows(rows)"
   ]
  },
  {
   "cell_type": "markdown",
   "metadata": {},
   "source": [
    "### Writing a dictionary to a CSV file\n",
    "\n",
    "csv.DictWriter object"
   ]
  },
  {
   "cell_type": "code",
   "execution_count": null,
   "metadata": {},
   "outputs": [],
   "source": [
    "# my data rows as dictionary objects\n",
    "mydict =[{'branch': 'COE', 'cgpa': '9.0', 'name': 'Nikhil', 'year': '2'},\n",
    "         {'branch': 'COE', 'cgpa': '9.1', 'name': 'Sanchit', 'year': '2'},\n",
    "         {'branch': 'IT', 'cgpa': '9.3', 'name': 'Aditya', 'year': '2'},\n",
    "         {'branch': 'SE', 'cgpa': '9.5', 'name': 'Sagar', 'year': '1'},\n",
    "         {'branch': 'MCE', 'cgpa': '7.8', 'name': 'Prateek', 'year': '3'},\n",
    "         {'branch': 'EP', 'cgpa': '9.1', 'name': 'Sahil', 'year': '2'}]\n",
    " \n",
    "# field names\n",
    "fields = ['name', 'branch', 'year', 'cgpa']"
   ]
  },
  {
   "cell_type": "code",
   "execution_count": null,
   "metadata": {},
   "outputs": [],
   "source": [
    "# writing to csv file\n",
    "with open(filename, 'w') as csvfile:\n",
    "    # creating a csv dict writer object\n",
    "    writer = csv.DictWriter(csvfile, fieldnames = fields)\n",
    "     \n",
    "    # writing headers (field names)\n",
    "    writer.writeheader()\n",
    "     \n",
    "    # writing data rows\n",
    "    writer.writerows(mydict)"
   ]
  },
  {
   "cell_type": "markdown",
   "metadata": {},
   "source": [
    "![](http://i.imgur.com/IFF1FJo.jpg)"
   ]
  },
  {
   "cell_type": "markdown",
   "metadata": {},
   "source": [
    "## 5. ZIP files\n",
    "\n",
    ">ZIP is an archive file format that supports lossless data compression. By lossless compression, we mean that the compression algorithm allows the original data to be perfectly reconstructed from the compressed data. So, a ZIP file is a single file containing one or more compressed files, offering an ideal way to make large files smaller and keep related files together.\n",
    "\n",
    "Why do we need zip files?\n",
    "\n",
    "- To reduce storage requirements.\n",
    "- To improve transfer speed over standard connections.\n",
    "\n",
    "To work on zip files using python, we will use an inbuilt python module called zipfile."
   ]
  },
  {
   "cell_type": "markdown",
   "metadata": {},
   "source": [
    "### Extracting from a zipfile"
   ]
  },
  {
   "cell_type": "code",
   "execution_count": null,
   "metadata": {},
   "outputs": [],
   "source": [
    "# importing required modules\n",
    "from zipfile import ZipFile\n",
    " \n",
    "# specifying the zip file name\n",
    "file_name = \"resources/my_files.zip\"\n",
    " \n",
    "# opening the zip file in READ mode\n",
    "with ZipFile(file_name, 'r') as zip:\n",
    "    # printing all the contents of the zip file\n",
    "    zip.printdir()\n",
    " \n",
    "    # extracting all the files\n",
    "    print('Extracting all the files now...')\n",
    "    zip.extractall()\n",
    "    print('Done!')"
   ]
  },
  {
   "cell_type": "markdown",
   "metadata": {},
   "source": [
    "### Writing to a zip file"
   ]
  },
  {
   "cell_type": "code",
   "execution_count": null,
   "metadata": {},
   "outputs": [],
   "source": [
    "import os\n",
    " \n",
    "def get_all_file_paths(directory):\n",
    " \n",
    "    # initializing empty file paths list\n",
    "    file_paths = []\n",
    " \n",
    "    # crawling through directory and subdirectories\n",
    "    for root, directories, files in os.walk(directory):\n",
    "        for filename in files:\n",
    "            # join the two strings in order to form the full filepath.\n",
    "            filepath = os.path.join(root, filename)\n",
    "            file_paths.append(filepath)\n",
    " \n",
    "    # returning all file paths\n",
    "    return file_paths        \n",
    " \n",
    "    \n",
    "# path to folder which needs to be zipped\n",
    "directory = 'resources/my_files'\n",
    "\n",
    "# calling function to get all file paths in the directory\n",
    "file_paths = get_all_file_paths(directory)\n",
    "\n",
    "# printing the list of all files to be zipped\n",
    "print('Following files will be zipped:')\n",
    "for file_name in file_paths:\n",
    "    print(file_name)\n",
    "\n",
    "# writing files to a zipfile\n",
    "with ZipFile('my_zipped_files.zip','w') as zip:\n",
    "    # writing each file one by one\n",
    "    for file in file_paths:\n",
    "        zip.write(file)\n",
    "\n",
    "print('All files zipped successfully!')"
   ]
  },
  {
   "cell_type": "markdown",
   "metadata": {},
   "source": [
    "## 6. PDF files\n",
    "\n",
    "![](https://lh3.googleusercontent.com/Rkf3FXjYCeQPlExy4RRi32sQs1J-DqGdzONTzGP2khJ992M6oPt1Ob6beMUA69M7vXc=w170)\n",
    "\n",
    ">PDF stands for Portable Document Format. It uses .pdf extension. It is used to present and exchange documents reliably, independent of software, hardware, or operating system.\n",
    "\n",
    ">Invented by Adobe, PDF is now an open standard maintained by the International Organization for Standardization (ISO). PDFs can contain links and buttons, form fields, audio, video, and business logic.\n",
    "\n",
    "We will be using a third-party module, **PyPDF2**.\n",
    "\n",
    "PyPDF2 is a python library built as a PDF toolkit. It is capable of:\n",
    "\n",
    "- Extracting document information (title, author, …)\n",
    "- Splitting documents page by page\n",
    "- Merging documents page by page\n",
    "- Cropping pages\n",
    "- Merging multiple pages into a single page\n",
    "- Encrypting and decrypting PDF files\n",
    "and more!\n",
    "\n",
    "To install PyPDF2:\n",
    "\n",
    "```\n",
    "$ pip install PyPDF2\n",
    "```"
   ]
  },
  {
   "cell_type": "markdown",
   "metadata": {},
   "source": [
    "### Extracting text from PDF files"
   ]
  },
  {
   "cell_type": "code",
   "execution_count": null,
   "metadata": {},
   "outputs": [],
   "source": [
    "# importing required modules\n",
    "import PyPDF2\n",
    " \n",
    "# creating a pdf file object\n",
    "pdfFileObj = open('resources/example.pdf', 'rb')\n",
    " \n",
    "# creating a pdf reader object\n",
    "pdfReader = PyPDF2.PdfFileReader(pdfFileObj)\n",
    " \n",
    "# printing number of pages in pdf file\n",
    "print(pdfReader.numPages)\n",
    " \n",
    "# creating a page object\n",
    "pageObj = pdfReader.getPage(0)\n",
    " \n",
    "# extracting text from page\n",
    "print(pageObj.extractText())\n",
    " \n",
    "# closing the pdf file object\n",
    "pdfFileObj.close()"
   ]
  },
  {
   "cell_type": "markdown",
   "metadata": {},
   "source": [
    ">While PDF files are great for laying out text in a way that’s easy for people to print and read, they’re not straightforward for software to parse into plaintext. As such, PyPDF2 might make mistakes when extracting text from a PDF and may even be unable to open some PDFs at all. There isn’t much you can do about this, unfortunately. PyPDF2 may simply be unable to work with some of your particular PDF files."
   ]
  },
  {
   "cell_type": "markdown",
   "metadata": {},
   "source": [
    "### Rotating PDF files\n",
    "\n",
    "<img src=http://s2.quickmeme.com/img/63/630da292a23ce1243761be3c8ec658d6efae07579b00c7f4a5a25dc88a97e8b6.jpg height=250 width=250>"
   ]
  },
  {
   "cell_type": "code",
   "execution_count": null,
   "metadata": {},
   "outputs": [],
   "source": [
    "def PDFrotate(origFileName, newFileName, rotation):\n",
    " \n",
    "    # creating a pdf File object of original pdf\n",
    "    pdfFileObj = open(origFileName, 'rb')\n",
    "     \n",
    "    # creating a pdf Reader object\n",
    "    pdfReader = PyPDF2.PdfFileReader(pdfFileObj)\n",
    " \n",
    "    # creating a pdf writer object for new pdf\n",
    "    pdfWriter = PyPDF2.PdfFileWriter()\n",
    "     \n",
    "    # rotating each page\n",
    "    for page in range(pdfReader.numPages):\n",
    " \n",
    "        # creating rotated page object\n",
    "        pageObj = pdfReader.getPage(page)\n",
    "        pageObj.rotateClockwise(rotation)\n",
    " \n",
    "        # adding rotated page object to pdf writer\n",
    "        pdfWriter.addPage(pageObj)\n",
    " \n",
    "    # new pdf file object\n",
    "    newFile = open(newFileName, 'wb')\n",
    "     \n",
    "    # writing rotated pages to new file\n",
    "    pdfWriter.write(newFile)\n",
    " \n",
    "    # closing the original pdf file object\n",
    "    pdfFileObj.close()\n",
    "     \n",
    "    # closing the new pdf file object\n",
    "    newFile.close()\n",
    "     \n",
    "        \n",
    "# original pdf file name\n",
    "origFileName = 'resources/example.pdf'\n",
    "\n",
    "# new pdf file name\n",
    "newFileName = 'resources/rotated_example.pdf'\n",
    "\n",
    "# rotation angle\n",
    "rotation = 270\n",
    "\n",
    "# calling the PDFrotate function\n",
    "PDFrotate(origFileName, newFileName, rotation)"
   ]
  },
  {
   "cell_type": "markdown",
   "metadata": {},
   "source": [
    "### Merging PDF files"
   ]
  },
  {
   "cell_type": "code",
   "execution_count": null,
   "metadata": {},
   "outputs": [],
   "source": [
    "def PDFmerge(pdfs, output): \n",
    "    # creating pdf file merger object\n",
    "    pdfMerger = PyPDF2.PdfFileMerger()\n",
    "     \n",
    "    # appending pdfs one by one\n",
    "    for pdf in pdfs:\n",
    "        with open(pdf, 'rb') as f:\n",
    "            pdfMerger.append(f)\n",
    "         \n",
    "    # writing combined pdf to output pdf file\n",
    "    with open(output, 'wb') as f:\n",
    "        pdfMerger.write(f)\n",
    "\n",
    "# pdf files to merge\n",
    "pdfs = ['resources/example.pdf', 'resources/rotated_example.pdf']\n",
    "\n",
    "# output pdf file name\n",
    "output  = 'resources/combined_example.pdf'\n",
    "\n",
    "# calling pdf merge function\n",
    "PDFmerge(pdfs = pdfs, output = output)\n"
   ]
  },
  {
   "cell_type": "markdown",
   "metadata": {},
   "source": [
    "### Splitting PDF"
   ]
  },
  {
   "cell_type": "code",
   "execution_count": null,
   "metadata": {},
   "outputs": [],
   "source": [
    "resources/def PDFsplit(pdf, splits):\n",
    "    # creating input pdf file object\n",
    "    pdfFileObj = open(pdf, 'rb')\n",
    "     \n",
    "    # creating pdf reader object\n",
    "    pdfReader = PyPDF2.PdfFileReader(pdfFileObj)\n",
    "     \n",
    "    # starting index of first slice\n",
    "    start = 0\n",
    "     \n",
    "    # starting index of last slice\n",
    "    end = splits[0]\n",
    "     \n",
    "     \n",
    "    for i in range(len(splits)+1):\n",
    "        # creating pdf writer object for (i+1)th split\n",
    "        pdfWriter = PyPDF2.PdfFileWriter()\n",
    "         \n",
    "        # output pdf file name\n",
    "        outputpdf = pdf.split('.pdf')[0] + str(i) + '.pdf'\n",
    "         \n",
    "        # adding pages to pdf writer object\n",
    "        for page in range(start,end):\n",
    "            pdfWriter.addPage(pdfReader.getPage(page))\n",
    "         \n",
    "        # writing split pdf pages to pdf file\n",
    "        with open(outputpdf, \"wb\") as f:\n",
    "            pdfWriter.write(f)\n",
    " \n",
    "        # interchanging page split start position for next split\n",
    "        start = end\n",
    "        try:\n",
    "            # setting split end positon for next split\n",
    "            end = splits[i+1]\n",
    "        except IndexError:\n",
    "            # setting split end position for last split\n",
    "            end = pdfReader.numPages\n",
    "         \n",
    "    # closing the input pdf file object\n",
    "    pdfFileObj.close()\n",
    "             \n",
    "\n",
    "# pdf file to split\n",
    "pdf = 'resources/example.pdf'\n",
    "\n",
    "# split page positions\n",
    "splits = [2,4]\n",
    "\n",
    "# calling PDFsplit function to split pdf\n",
    "PDFsplit(pdf, splits)"
   ]
  },
  {
   "cell_type": "markdown",
   "metadata": {},
   "source": [
    "![](https://memegenerator.net/img/instances/400x/60931389.jpg)"
   ]
  },
  {
   "cell_type": "markdown",
   "metadata": {},
   "source": [
    "To learn more:\n",
    "- https://automatetheboringstuff.com/chapter13/\n",
    "- https://pythonhosted.org/PyPDF2/"
   ]
  }
 ],
 "metadata": {
  "kernelspec": {
   "display_name": "Python 3",
   "language": "python",
   "name": "python3"
  },
  "language_info": {
   "codemirror_mode": {
    "name": "ipython",
    "version": 3
   },
   "file_extension": ".py",
   "mimetype": "text/x-python",
   "name": "python",
   "nbconvert_exporter": "python",
   "pygments_lexer": "ipython3",
   "version": "3.6.3"
  }
 },
 "nbformat": 4,
 "nbformat_minor": 2
}
