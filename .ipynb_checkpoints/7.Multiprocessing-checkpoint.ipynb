{
 "cells": [
  {
   "cell_type": "markdown",
   "metadata": {},
   "source": [
    "# <center>Intermediate Python (Part-7)</center>"
   ]
  },
  {
   "cell_type": "markdown",
   "metadata": {},
   "source": [
    "# ***<center>Multiprocessing</center>***\n",
    "\n",
    "![](https://cdn.meme.am/cache/instances/folder256/500x/43715256.jpg)"
   ]
  },
  {
   "cell_type": "markdown",
   "metadata": {},
   "source": [
    ">Multiprocessing refers to the ability of a system to support more than one processor at the same time. Applications in a multiprocessing system are broken to smaller routines that run independently. The operating system allocates these threads to the processors improving performance of the system.\n",
    "\n",
    "### Why multiprocessing?\n",
    "\n",
    "Consider a computer system with a single processor. If it is assigned several processes at the same time, it will have to interrupt each task and switch briefly to another, to keep all of the processes going.\n",
    "\n",
    "This situation is just like a chef working in a kitchen alone. He has to do several tasks like baking, stirring, kneading dough, etc.\n",
    "\n",
    "![](http://contribute.geeksforgeeks.org/wp-content/uploads/P1-Multitasking-300x136.png)\n",
    "\n",
    "So the gist is that: The more tasks you must do at once, the more difficult it gets to keep track of them all, and keeping the timing right becomes more of a challenge.\n",
    "\n",
    "This is where the concept of multiprocessing arises!\n",
    "\n",
    "**A multiprocessing system can have:**\n",
    "- multiprocessor, i.e. a computer with more than one central processor.\n",
    "- multi-core processor, i.e. a single computing component with two or more independent actual processing units (called “cores”).\n",
    "\n",
    "<img src=http://slideplayer.com/5832436/19/images/3/Multi-Core+vs.+Multi-Processor.jpg height=500 width=700>\n",
    "\n",
    "Here, the CPU can easily executes several tasks at once, with each task using its own processor.\n",
    "\n",
    "It is just like the chef in last situation being assisted by his assistants. Now, they can divide the tasks among themselves and chef doesn’t need to switch between his tasks.\n",
    "\n",
    "![](http://contribute.geeksforgeeks.org/wp-content/uploads/P1-Multiprocessing-300x113.png)"
   ]
  },
  {
   "cell_type": "markdown",
   "metadata": {},
   "source": [
    "### Multiprocessing in Python\n",
    "\n",
    "In Python, the **multiprocessing** module includes a very simple and intuitive API for dividing work between multiple processes."
   ]
  },
  {
   "cell_type": "code",
   "execution_count": null,
   "metadata": {},
   "outputs": [],
   "source": [
    "# importing the multiprocessing module\n",
    "import multiprocessing\n",
    " \n",
    "def print_cube(num):\n",
    "    \"\"\"\n",
    "    function to print cube of given num\n",
    "    \"\"\"\n",
    "    print(\"Cube: {}\".format(num * num * num))\n",
    "    \n",
    "def print_square(num):\n",
    "    \"\"\"\n",
    "    function to print square of given num\n",
    "    \"\"\"\n",
    "    print(\"Square: {}\".format(num * num))\n",
    "\n",
    "if __name__ == \"__main__\":\n",
    "    # creating processes\n",
    "    p1 = multiprocessing.Process(target=print_square, args=(10, ))\n",
    "    p2 = multiprocessing.Process(target=print_cube, args=(10, ))\n",
    " \n",
    "    # starting process 1\n",
    "    p1.start()\n",
    "    # starting process 2\n",
    "    p2.start()\n",
    " \n",
    "    # wait until process 1 is finished\n",
    "    p1.join()\n",
    "    # wait until process 2 is finished\n",
    "    p2.join()\n",
    " \n",
    "    # both processes finished\n",
    "    print(\"Done!\")"
   ]
  },
  {
   "cell_type": "markdown",
   "metadata": {},
   "source": [
    "Let us consider another program to understand the concept of different processes running on same python script. In this example below, we print the ID of the processes running the target functions:"
   ]
  },
  {
   "cell_type": "code",
   "execution_count": null,
   "metadata": {},
   "outputs": [],
   "source": [
    "import os\n",
    " \n",
    "def worker1():\n",
    "    # printing process id\n",
    "    print(\"ID of process running worker1: {}\".format(os.getpid()))\n",
    "\n",
    "def worker2():\n",
    "    # printing process id\n",
    "    print(\"ID of process running worker2: {}\".format(os.getpid()))\n",
    "\n",
    "if __name__ == \"__main__\":\n",
    "    # printing main program process id\n",
    "    print(\"ID of main process: {}\".format(os.getpid()))\n",
    " \n",
    "    # creating processes\n",
    "    p1 = multiprocessing.Process(target=worker1)\n",
    "    p2 = multiprocessing.Process(target=worker2)\n",
    " \n",
    "    # starting processes\n",
    "    p1.start()\n",
    "    p2.start()\n",
    " \n",
    "    # process IDs\n",
    "    print(\"ID of process p1: {}\".format(p1.pid))\n",
    "    print(\"ID of process p2: {}\".format(p2.pid))\n",
    " \n",
    "    # wait until processes are finished\n",
    "    p1.join()\n",
    "    p2.join()\n",
    " \n",
    "    # both processes finished\n",
    "    print(\"Both processes finished execution!\")\n",
    " \n",
    "    # check if processes are alive\n",
    "    print(\"Process p1 is alive: {}\".format(p1.is_alive()))\n",
    "    print(\"Process p2 is alive: {}\".format(p2.is_alive()))"
   ]
  },
  {
   "cell_type": "markdown",
   "metadata": {},
   "source": [
    "![](http://contribute.geeksforgeeks.org/wp-content/uploads/multiprocessing1-291x300.png)"
   ]
  },
  {
   "cell_type": "markdown",
   "metadata": {},
   "source": [
    "## Pooling of processes\n",
    "\n",
    "Let us consider a simple program to find squares of numbers in a given list."
   ]
  },
  {
   "cell_type": "code",
   "execution_count": null,
   "metadata": {},
   "outputs": [],
   "source": [
    "# Python program to find \n",
    "# squares of numbers in a given list\n",
    "def square(n):\n",
    "    return (n*n)\n",
    " \n",
    "if __name__ == \"__main__\":\n",
    " \n",
    "    # input list\n",
    "    mylist = [1,2,3,4,5]\n",
    " \n",
    "    # empty list to store result\n",
    "    result = []\n",
    " \n",
    "    for num in mylist:\n",
    "        result.append(square(num))\n",
    " \n",
    "    print(result)"
   ]
  },
  {
   "cell_type": "markdown",
   "metadata": {},
   "source": [
    "It is a simple program to calculate squares of elements of a given list. In a multi-core/multi-processor system, consider the diagram below to understand how above program will work:\n",
    "\n",
    "![](http://contribute.geeksforgeeks.org/wp-content/uploads/single_core.png)\n",
    "\n",
    "Only one of the cores is used for program execution and it’s quite possible that other cores remain idle.\n",
    "\n",
    "\n",
    "In order to utilize all the cores, multiprocessing module provides a **Pool** class. The Pool class represents a pool of worker processes. It has methods which allows tasks to be offloaded to the worker processes in a few different ways. Consider the diagram below:\n",
    "\n",
    "![](http://contribute.geeksforgeeks.org/wp-content/uploads/pooling.png)\n",
    "\n",
    "Here, the task is offloaded/distributed among the cores/processes automatically by Pool object. User doesn’t need to worry about creating processes explicitly."
   ]
  },
  {
   "cell_type": "code",
   "execution_count": null,
   "metadata": {},
   "outputs": [],
   "source": [
    "# Python program to understand \n",
    "# the concept of pool\n",
    "import multiprocessing\n",
    "import os\n",
    " \n",
    "def square(n):\n",
    "    print(\"Worker process id for {0}: {1}\".format(n, os.getpid()))\n",
    "    return (n*n)\n",
    " \n",
    "if __name__ == \"__main__\":\n",
    "    # input list\n",
    "    mylist = [1,2,3,4,5]\n",
    " \n",
    "    # creating a pool object\n",
    "    p = multiprocessing.Pool()\n",
    " \n",
    "    # map list to target function\n",
    "    result = p.map(square, mylist)\n",
    " \n",
    "    print(result)"
   ]
  },
  {
   "cell_type": "markdown",
   "metadata": {},
   "source": [
    "There are a few arguments for gaining more control over offloading of task. These are:\n",
    "\n",
    "- processes: specify the number of worker processes.\n",
    "- maxtasksperchild: specify the maximum number of task to be assigned per child."
   ]
  },
  {
   "cell_type": "markdown",
   "metadata": {},
   "source": [
    "Read more about multiprocessing in Python here:\n",
    "- https://indianpythonista.wordpress.com/2017/07/07/multiprocessing-in-python-part-1/\n",
    "- https://indianpythonista.wordpress.com/2017/07/07/multiprocessing-in-python-part-2/\n",
    "- https://indianpythonista.wordpress.com/2017/07/11/multiprocessing-in-python-part-3/\n",
    "\n",
    "![](http://i.imgur.com/xh4xG0q.png)"
   ]
  }
 ],
 "metadata": {
  "kernelspec": {
   "display_name": "Python 3",
   "language": "python",
   "name": "python3"
  },
  "language_info": {
   "codemirror_mode": {
    "name": "ipython",
    "version": 3
   },
   "file_extension": ".py",
   "mimetype": "text/x-python",
   "name": "python",
   "nbconvert_exporter": "python",
   "pygments_lexer": "ipython3",
   "version": "3.6.3"
  }
 },
 "nbformat": 4,
 "nbformat_minor": 2
}
